{
  "nbformat": 4,
  "nbformat_minor": 0,
  "metadata": {
    "colab": {
      "name": "Ameya_Project.ipynb",
      "provenance": []
    },
    "kernelspec": {
      "name": "python3",
      "display_name": "Python 3"
    },
    "language_info": {
      "name": "python"
    }
  },
  "cells": [
    {
      "cell_type": "code",
      "metadata": {
        "id": "_JVrcT3SYPo6"
      },
      "source": [
        "import json\n",
        "records = {\"1001\": {\"name\": \"Choco Cake\", \"qn\": 34, \"pr\": 100}, \"1002\": {\"name\": \"Milk Cake\", \"pr\": 800, \"qn\": 100}, \"1003\": {\"name\": \"Drink\", \"pr\": 85, \"qn\": 100}, \"1004\": {\"name\": \"Candy\", \"pr\": 5, \"qn\": 1000}, \"1005\": {\"name\": \"Pen\", \"pr\": 20, \"qn\": 100}, \"1006\": {\"name\": \"Phone\", \"pr\": 50000, \"qn\": 10}, \"1007\": {\"name\": \"Mic\", \"pr\": 1500, \"qn\": 0}, \"1008\": {\"name\": \"Case\", \"pr\": 599, \"qn\": 5}, \"1009\": {\"name\": \"Keyboard\", \"pr\": 1999, \"qn\": 10}}\n",
        "rec = json.dumps(records)"
      ],
      "execution_count": 5,
      "outputs": []
    },
    {
      "cell_type": "code",
      "metadata": {
        "id": "gnM1hJ1ZYb6w"
      },
      "source": [
        "fd = open('record.json', 'w')\n",
        "fd.write(rec)\n",
        "fd.close()"
      ],
      "execution_count": 17,
      "outputs": []
    },
    {
      "cell_type": "code",
      "metadata": {
        "colab": {
          "base_uri": "https://localhost:8080/"
        },
        "id": "YDeis0hzqc4y",
        "outputId": "81b6ce6b-8a69-4aed-cca5-54b77099e584"
      },
      "source": [
        "for i in range(21):\n",
        "  prod_id = input('prod_id')\n",
        "  u_name = input('name')\n",
        "  u_qn = int(input('qn'))\n",
        "  u_pr = int(input('pr'))\n",
        "  records[prod_id] = {'name':u_name,'qn':u_qn,'pr':u_pr}p"
      ],
      "execution_count": 18,
      "outputs": [
        {
          "name": "stdout",
          "output_type": "stream",
          "text": [
            "prod_id1010\n",
            "namesoap\n",
            "qn25\n",
            "pr50\n",
            "prod_id1011\n",
            "nameshampoo\n",
            "qn35\n",
            "pr45\n",
            "prod_id1012\n",
            "nameconditioner\n",
            "qn56\n",
            "pr85\n",
            "prod_id1013\n",
            "namehairoil\n",
            "qn45\n",
            "pr65\n",
            "prod_id1014\n",
            "nametoothpaste\n",
            "qn85\n",
            "pr50\n",
            "prod_id1015\n",
            "nameshavingcream\n",
            "qn56\n",
            "pr58\n",
            "prod_id1016\n",
            "namedetergent\n",
            "qn58\n",
            "pr85\n",
            "prod_id1017\n",
            "namepowder\n",
            "qn48\n",
            "pr59\n",
            "prod_id1018\n",
            "namedishwash\n",
            "qn56\n",
            "pr25\n",
            "prod_id1019\n",
            "namecleaner\n",
            "qn58\n",
            "pr25\n",
            "prod_id1020\n",
            "nameroll\n",
            "qn56\n",
            "pr58\n",
            "prod_id1021\n",
            "namesanitizer\n",
            "qn85\n",
            "pr75\n",
            "prod_id1022\n",
            "nametowel\n",
            "qn85\n",
            "pr25\n",
            "prod_id1023\n",
            "namecheese\n",
            "qn10\n",
            "pr50\n",
            "prod_id1024\n",
            "namepaneer\n",
            "qn85\n",
            "pr85\n",
            "prod_id1025\n",
            "namehoney\n",
            "qn68\n",
            "pr85\n",
            "prod_id1026\n",
            "namebags\n",
            "qn56\n",
            "pr85\n",
            "prod_id1027\n",
            "namecoffee\n",
            "qn58\n",
            "pr45\n",
            "prod_id1028\n",
            "namebeans\n",
            "qn95\n",
            "pr85\n",
            "prod_id1029\n",
            "namechillipowder\n",
            "qn85\n",
            "pr58\n",
            "prod_id1030\n",
            "namespices\n",
            "qn55\n",
            "pr25\n"
          ]
        }
      ]
    },
    {
      "cell_type": "code",
      "metadata": {
        "colab": {
          "base_uri": "https://localhost:8080/"
        },
        "id": "DN5Sq_8UvKnt",
        "outputId": "f890a024-f931-4183-90ad-b2bc7cc72e53"
      },
      "source": [
        "print(records)"
      ],
      "execution_count": 19,
      "outputs": [
        {
          "output_type": "stream",
          "name": "stdout",
          "text": [
            "{'1001': {'name': 'Choco Cake', 'qn': 34, 'pr': 100}, '1002': {'name': 'Milk Cake', 'pr': 800, 'qn': 100}, '1003': {'name': 'Drink', 'pr': 85, 'qn': 100}, '1004': {'name': 'Candy', 'pr': 5, 'qn': 1000}, '1005': {'name': 'Pen', 'pr': 20, 'qn': 100}, '1006': {'name': 'Phone', 'pr': 50000, 'qn': 10}, '1007': {'name': 'Mic', 'pr': 1500, 'qn': 0}, '1008': {'name': 'Case', 'pr': 599, 'qn': 5}, '1009': {'name': 'Keyboard', 'pr': 1999, 'qn': 10}, '1010': {'name': 'soap', 'qn': 25, 'pr': 50}, '1011': {'name': 'shampoo', 'qn': 35, 'pr': 45}, '1012': {'name': 'conditioner', 'qn': 56, 'pr': 85}, '1013': {'name': 'hairoil', 'qn': 45, 'pr': 65}, '1014': {'name': 'toothpaste', 'qn': 85, 'pr': 50}, '1015': {'name': 'shavingcream', 'qn': 56, 'pr': 58}, '1016': {'name': 'detergent', 'qn': 58, 'pr': 85}, '1017': {'name': 'powder', 'qn': 48, 'pr': 59}, '1018': {'name': 'dishwash', 'qn': 56, 'pr': 25}, '1019': {'name': 'cleaner', 'qn': 58, 'pr': 25}, 'dairymilk': {'name': 'dairymilk', 'qn': 15, 'pr': 20}, '1021': {'name': 'sanitizer', 'qn': 85, 'pr': 75}, '1022': {'name': 'towel', 'qn': 85, 'pr': 25}, '1023': {'name': 'cheese', 'qn': 10, 'pr': 50}, '1024': {'name': 'paneer', 'qn': 85, 'pr': 85}, 'pencil': {'name': 'pencil', 'qn': 15, 'pr': 5}, 'eraser': {'name': 'eraser', 'qn': 15, 'pr': 5}, '1020': {'name': 'roll', 'qn': 56, 'pr': 58}, '1025': {'name': 'honey', 'qn': 68, 'pr': 85}, '1026': {'name': 'bags', 'qn': 56, 'pr': 85}, '1027': {'name': 'coffee', 'qn': 58, 'pr': 45}, '1028': {'name': 'beans', 'qn': 95, 'pr': 85}, 'apsara': {'name': 'apsara', 'qn': 25, 'pr': 15}, 'natraj': {'name': 'natraj', 'qn': 45, 'pr': 15}, 'puro': {'name': '-', 'qn': 56, 'pr': 25}, 'sugar': {'name': 'sugar', 'qn': 45, 'pr': 15}, '1029': {'name': 'chillipowder', 'qn': 85, 'pr': 58}, '1030': {'name': 'spices', 'qn': 55, 'pr': 25}}\n"
          ]
        }
      ]
    },
    {
      "cell_type": "code",
      "metadata": {
        "id": "P3O2TpcBvM43"
      },
      "source": [
        "d = json.dumps(records)\n",
        "fd = open('record.json', 'w')\n",
        "fd.write(d)\n",
        "fd.close()"
      ],
      "execution_count": 20,
      "outputs": []
    }
  ]
}